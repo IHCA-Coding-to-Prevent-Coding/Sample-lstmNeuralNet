{
 "cells": [
  {
   "cell_type": "code",
   "execution_count": 24,
   "metadata": {},
   "outputs": [],
   "source": [
    "\n",
    "from statistics import mean\n",
    "import torch\n",
    "from torch import nn\n",
    "import matplotlib.pyplot as plt\n",
    "import pandas as pd\n",
    "from sklearn.metrics import roc_curve as roc"
   ]
  },
  {
   "cell_type": "code",
   "execution_count": 16,
   "metadata": {},
   "outputs": [],
   "source": [
    "# https://towardsdatascience.com/lstms-in-pytorch-528b0440244\n",
    "# https://github.com/IHCA-Coding-to-Prevent-Coding/ML-SampleNeuralNet/blob/main/sampleneuralnet.py\n",
    "# data from https://archive.ics.uci.edu/ml/datasets/Power+consumption+of+Tetouan+city#"
   ]
  },
  {
   "cell_type": "code",
   "execution_count": 17,
   "metadata": {},
   "outputs": [
    {
     "data": {
      "text/plain": [
       "Index(['DateTime', 'Temperature', 'Humidity', 'Wind Speed',\n",
       "       'general diffuse flows', 'diffuse flows', 'Zone 1 Power Consumption',\n",
       "       'Zone 2  Power Consumption', 'Zone 3  Power Consumption'],\n",
       "      dtype='object')"
      ]
     },
     "execution_count": 17,
     "metadata": {},
     "output_type": "execute_result"
    }
   ],
   "source": [
    "data = pd.read_csv('Tetuan City power consumption.csv')\n",
    "data.columns"
   ]
  },
  {
   "cell_type": "code",
   "execution_count": 18,
   "metadata": {},
   "outputs": [],
   "source": [
    "#first week of data is training, second week is testing\n",
    "\n",
    "splitPoint = 144*7\n",
    "\n",
    "trainTruth = data.iloc[:splitPoint, [6]]\n",
    "training = data.iloc[:splitPoint, [1, 2, 3, 4, 5]]\n",
    "\n",
    "testTruth = data.iloc[splitPoint:splitPoint*2, [6]]\n",
    "testing = data.iloc[splitPoint:splitPoint*2, [1, 2, 3, 4, 5]]\n",
    "\n",
    "trainTruth = torch.tensor(trainTruth.values)\n",
    "training = torch.tensor(training.values)\n",
    "\n",
    "testTruth = torch.tensor(testTruth.values)\n",
    "testing = torch.tensor(testing.values)\n",
    "\n",
    "training = training.float()\n",
    "testing = testing.float()\n",
    "trainTruth = trainTruth.float()\n",
    "testTruth = testTruth.float()"
   ]
  },
  {
   "cell_type": "code",
   "execution_count": 19,
   "metadata": {},
   "outputs": [
    {
     "data": {
      "image/png": "[encoded data removed]",
      "text/plain": [
       "<Figure size 432x288 with 1 Axes>"
      ]
     },
     "metadata": {
      "needs_background": "light"
     },
     "output_type": "display_data"
    }
   ],
   "source": [
    "#testing = torch.randn(batchSize, seqLength, inputSize)\n",
    "\n",
    "inputSize=5 # variables input\n",
    "hiddenSize=16 # nodes of hidden layer\n",
    "outSize=1 # power consumptoion in zone 1\n",
    "batchSize= 144*7 # how many data points are in batch\n",
    "lr = 0.1\n",
    "seqLength=144 # num of time values per input\n",
    "epochSize = 20\n",
    "\n",
    "class extractTensor(nn.Module):\n",
    "    def forward(self, x):\n",
    "        tensor, hs = x\n",
    "        return tensor.reshape(-1, hiddenSize) \n",
    "\n",
    "model = nn.Sequential(\n",
    "    nn.LSTM(inputSize, hiddenSize),\n",
    "    extractTensor(),\n",
    "    nn.Linear(hiddenSize, outSize)\n",
    ")\n",
    "\n",
    "def lossFunc(data=training, comparison=trainTruth, model=model):\n",
    "    prediction = model(data)\n",
    "\n",
    "    MSEloss = torch.nn.MSELoss()\n",
    "    output = MSEloss(prediction, comparison)\n",
    "    \n",
    "    return output, prediction\n",
    "\n",
    "optimizer = torch.optim.SGD(model.parameters(), lr=lr)\n",
    "\n",
    "lossList = []\n",
    "for i in range(epochSize):\n",
    "    loss, output = lossFunc()\n",
    "    lossList.append(loss.item())\n",
    "\n",
    "    optimizer.zero_grad()\n",
    "    loss.backward()\n",
    "    optimizer.step()\n",
    "\n",
    "plt.plot(lossList)\n",
    "training_loss = loss.item();"
   ]
  },
  {
   "cell_type": "code",
   "execution_count": 22,
   "metadata": {},
   "outputs": [
    {
     "name": "stdout",
     "output_type": "stream",
     "text": [
      "training loss:    49520508.0\n",
      "testing loss:     51566416.0\n",
      "testing-training: 2045908.0\n",
      "testing/training: 0.9603247974418079\n",
      "% error           0.03967520255819214\n"
     ]
    }
   ],
   "source": [
    "with torch.no_grad():\n",
    "    testing_loss, prediction = lossFunc(testing, testTruth);\n",
    "    testing_loss = testing_loss.item()\n",
    "   \n",
    "    print(f\"training loss:    {training_loss}\");\n",
    "    print(f\"testing loss:     {testing_loss}\");\n",
    "    print(f\"testing-training: {testing_loss-training_loss}\");\n",
    "    print(f\"testing/training: {training_loss/testing_loss}\");\n",
    "    print(f\"% error           {(testing_loss-training_loss)/testing_loss}\");"
   ]
  },
  {
   "cell_type": "code",
   "execution_count": null,
   "metadata": {},
   "outputs": [
    {
     "name": "stdout",
     "output_type": "stream",
     "text": [
      "5% of zone 1 power usage mean: 1617.2485281792965\n"
     ]
    }
   ],
   "source": [
    "errorRange = mean(data['Zone 1 Power Consumption'])*.05\n",
    "print(f\"5% of zone 1 power usage mean: {errorRange}\")"
   ]
  },
  {
   "cell_type": "code",
   "execution_count": 29,
   "metadata": {},
   "outputs": [
    {
     "name": "stderr",
     "output_type": "stream",
     "text": [
      "c:\\Users\\natha\\AppData\\Local\\Programs\\Python\\Python39\\lib\\site-packages\\sklearn\\metrics\\_ranking.py:1009: UndefinedMetricWarning: No negative samples in y_true, false positive value should be meaningless\n",
      "  warnings.warn(\n"
     ]
    },
    {
     "data": {
      "text/plain": [
       "[<matplotlib.lines.Line2D at 0x1b9985fc8e0>,\n",
       " <matplotlib.lines.Line2D at 0x1b9985fcb20>,\n",
       " <matplotlib.lines.Line2D at 0x1b9985fc7f0>]"
      ]
     },
     "execution_count": 29,
     "metadata": {},
     "output_type": "execute_result"
    },
    {
     "data": {
      "image/png": "[encoded data removed]",
      "text/plain": [
       "<Figure size 432x288 with 1 Axes>"
      ]
     },
     "metadata": {
      "needs_background": "light"
     },
     "output_type": "display_data"
    }
   ],
   "source": [
    "# use sklearn for auroc curve\n",
    "# https://scikit-learn.org/stable/modules/generated/sklearn.metrics.roc_curve.html\n",
    "    # roc curve docs\n",
    "    # integral of above is auroc\n",
    "# need binary values for above\n",
    "    # get from seeing if prediction is in error range of truth value\n",
    "    # 5% of average power usage??\n",
    "\n",
    "\n",
    "#assigning predictions to true or false based on error range\n",
    "\n",
    "#TODO roc meant to use binary true/dalse values not continuous data\n",
    "    #change data setup to binary prediction?\n",
    "        # chance city will use more than average power??\n",
    "\n",
    "isCorrect =[]\n",
    "for i in range(len(prediction)):\n",
    "    if (prediction[i] <= testTruth[i] + errorRange) and (prediction[i] >= testTruth[i] - errorRange):\n",
    "        isCorrect.append(1)\n",
    "    else:\n",
    "        isCorrect.append(0)\n",
    "\n",
    "\n",
    "plt.plot(roc([1]*len(isCorrect), isCorrect))\n"
   ]
  }
 ],
 "metadata": {
  "kernelspec": {
   "display_name": "Python 3",
   "language": "python",
   "name": "python3"
  },
  "language_info": {
   "codemirror_mode": {
    "name": "ipython",
    "version": 3
   },
   "file_extension": ".py",
   "mimetype": "text/x-python",
   "name": "python",
   "nbconvert_exporter": "python",
   "pygments_lexer": "ipython3",
   "version": "3.9.7"
  },
  "orig_nbformat": 4,
  "vscode": {
   "interpreter": {
    "hash": "89627e806f793b932dfe80791ab48950fda4fb8e20d46d5d1c8fbf2fdce875b2"
   }
  }
 },
 "nbformat": 4,
 "nbformat_minor": 2
}
