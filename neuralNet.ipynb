{
 "cells": [
  {
   "cell_type": "code",
   "execution_count": 1,
   "metadata": {},
   "outputs": [
    {
     "name": "stderr",
     "output_type": "stream",
     "text": [
      "c:\\Users\\natha\\AppData\\Local\\Programs\\Python\\Python39\\lib\\site-packages\\tqdm\\auto.py:22: TqdmWarning: IProgress not found. Please update jupyter and ipywidgets. See https://ipywidgets.readthedocs.io/en/stable/user_install.html\n",
      "  from .autonotebook import tqdm as notebook_tqdm\n"
     ]
    }
   ],
   "source": [
    "import torch\n",
    "from torch import nn\n",
    "import matplotlib.pyplot as plt\n",
    "import pandas as pd"
   ]
  },
  {
   "cell_type": "code",
   "execution_count": 36,
   "metadata": {},
   "outputs": [],
   "source": [
    "# https://towardsdatascience.com/lstms-in-pytorch-528b0440244\n",
    "# https://github.com/IHCA-Coding-to-Prevent-Coding/ML-SampleNeuralNet/blob/main/sampleneuralnet.py\n",
    "# data from https://archive.ics.uci.edu/ml/datasets/Power+consumption+of+Tetouan+city#\n",
    "\n",
    "#testing data\n",
    "# data format is date/time, temperature, humidity, wind speed, general diffuse flow, diffue flow,  zone 1 power, 2 power, 3 power\n",
    "with open(\"Tetuan City power consumption.csv\", 'r') as f:\n",
    "    rawData = f.readlines()\n",
    "\n",
    "    #removing head\n",
    "    rawData = rawData[1:len(rawData)]\n",
    "    \n",
    "def breakLines(string):\n",
    "    itemizedLine=[]\n",
    "    prev=0\n",
    "    for c in range(len(string)):\n",
    "        if string[c] == str(','):\n",
    "            itemizedLine.append(string[prev:c])\n",
    "            prev=c\n",
    "    return itemizedLine\n",
    "\n",
    "itemizedLines=[]\n",
    "for line in rawData:\n",
    "    itemizedLines.append(breakLines(line))\n",
    "\n",
    "#TODO convert to pandas\n",
    "#TODO format neural input object\n",
    "#TODO make sure neural accepts info\n",
    "\n",
    "# takes 144 inputs (24 hours) for each data type (temp, humidity, windSpeed, general diffuse, and diffuse)\n",
    "workingLines = pd.DataFrame(itemizedLines[0:145*14]) # gets 2 weeks of weather data\n",
    "# ['1/1/2017 0:00', ',6.559', ',73.8', ',0.083', ',0.051', ',0.119', ',34055.6962', ',16128.87538']\n",
    "\n",
    "alltemps = [line[1] for line in workingLines]\n",
    "allhums = [line[2] for line in workingLines]\n",
    "allwinds = [line[3] for line in workingLines]\n",
    "allgendif = [line[4] for line in workingLines]\n",
    "alldif = [line[5] for line in workingLines]\n",
    "\n",
    "testing = [alltemps, allhums, allwinds]"
   ]
  },
  {
   "cell_type": "code",
   "execution_count": null,
   "metadata": {},
   "outputs": [],
   "source": [
    "#testing = torch.randn(batchSize, seqLength, inputSize)\n",
    "\n",
    "inputSize=5 # variables input\n",
    "hiddenSize=1 # nodes of hidden layer\n",
    "outSize=1 # power consumptoion in zone 1\n",
    "batchSize=100 # how many data points are in batch\n",
    "lr = 0.1\n",
    "seqLength=144 # num of time values per input\n",
    "\n",
    "class extractTensor(nn.Module):\n",
    "    def forward(self, x):\n",
    "        tensor, hs = x\n",
    "        return tensor.reshape(-1, hiddenSize) \n",
    "\n",
    "model = nn.Sequential(\n",
    "    nn.LSTM(inputSize, hiddenSize),\n",
    "    extractTensor(),\n",
    "    nn.Linear(hiddenSize, outSize)\n",
    ")\n",
    "\n",
    "def lossFunc(date=testing, comparison=truth, model=model):\n",
    "    prediction = model(testing)\n",
    "\n",
    "    MSEloss = torch.nn.MSELoss()\n",
    "    output = MSEloss(prediction, comparison)\n",
    "    \n",
    "    return output\n",
    "\n",
    "optimizer = torch.optim.SGD(model.parameters(), lr=lr)\n",
    "\n",
    "lossList = []\n",
    "for i in range(100):\n",
    "    loss = lossFunc()\n",
    "    lossList.append(loss.item())\n",
    "\n",
    "    optimizer.zero_grad()\n",
    "    loss.backward()\n",
    "    optimizer.step()\n",
    "\n",
    "plt.plot(lossList)"
   ]
  },
  {
   "cell_type": "code",
   "execution_count": 3,
   "metadata": {},
   "outputs": [
    {
     "name": "stdout",
     "output_type": "stream",
     "text": [
      "(array([[ 0.,  0.,  5., ...,  0.,  0.,  0.],\n",
      "       [ 0.,  0.,  0., ..., 10.,  0.,  0.],\n",
      "       [ 0.,  0.,  0., ..., 16.,  9.,  0.],\n",
      "       ...,\n",
      "       [ 0.,  0.,  1., ...,  6.,  0.,  0.],\n",
      "       [ 0.,  0.,  2., ..., 12.,  0.,  0.],\n",
      "       [ 0.,  0., 10., ..., 12.,  1.,  0.]]), array([0, 1, 2, ..., 8, 9, 8]))\n"
     ]
    }
   ],
   "source": [
    "# training data digits\n",
    "\n",
    "from sklearn.datasets import load_digits\n",
    "\n",
    "digits = load_digits(return_X_y=True)\n",
    "#names = load_targets()\n",
    "print(digits)\n",
    "plt.show()"
   ]
  }
 ],
 "metadata": {
  "kernelspec": {
   "display_name": "Python 3",
   "language": "python",
   "name": "python3"
  },
  "language_info": {
   "codemirror_mode": {
    "name": "ipython",
    "version": 3
   },
   "file_extension": ".py",
   "mimetype": "text/x-python",
   "name": "python",
   "nbconvert_exporter": "python",
   "pygments_lexer": "ipython3",
   "version": "3.9.7"
  },
  "orig_nbformat": 4,
  "vscode": {
   "interpreter": {
    "hash": "89627e806f793b932dfe80791ab48950fda4fb8e20d46d5d1c8fbf2fdce875b2"
   }
  }
 },
 "nbformat": 4,
 "nbformat_minor": 2
}
