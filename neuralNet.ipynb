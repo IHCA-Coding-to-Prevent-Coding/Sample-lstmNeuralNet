{
 "cells": [
  {
   "cell_type": "code",
   "execution_count": 49,
   "metadata": {},
   "outputs": [],
   "source": [
    "from statistics import mean, mode\n",
    "import torch\n",
    "from torch import nn\n",
    "import matplotlib.pyplot as plt\n",
    "import pandas as pd\n",
    "from sklearn.model_selection import train_test_split\n",
    "from sklearn.metrics import roc_auc_score"
   ]
  },
  {
   "cell_type": "code",
   "execution_count": 50,
   "metadata": {},
   "outputs": [],
   "source": [
    "import numpy as np"
   ]
  },
  {
   "cell_type": "code",
   "execution_count": 51,
   "metadata": {},
   "outputs": [],
   "source": [
    "# https://towardsdatascience.com/lstms-in-pytorch-528b0440244\n",
    "# https://github.com/IHCA-Coding-to-Prevent-Coding/ML-SampleNeuralNet/blob/main/sampleneuralnet.py\n",
    "# data from https://archive.ics.uci.edu/ml/datasets/Power+consumption+of+Tetouan+city#"
   ]
  },
  {
   "cell_type": "code",
   "execution_count": 52,
   "metadata": {},
   "outputs": [
    {
     "data": {
      "text/plain": [
       "Index(['DateTime', 'Temperature', 'Humidity', 'Wind Speed',\n",
       "       'general diffuse flows', 'diffuse flows', 'Zone 1 Power Consumption',\n",
       "       'Zone 2  Power Consumption', 'Zone 3  Power Consumption'],\n",
       "      dtype='object')"
      ]
     },
     "execution_count": 52,
     "metadata": {},
     "output_type": "execute_result"
    }
   ],
   "source": [
    "data = pd.read_csv('Tetuan City power consumption.csv')\n",
    "data.columns"
   ]
  },
  {
   "cell_type": "code",
   "execution_count": 53,
   "metadata": {},
   "outputs": [],
   "source": [
    "# changes data length so you don't run on 50,000 values every time\n",
    "data = data.iloc[:5000, :]"
   ]
  },
  {
   "cell_type": "code",
   "execution_count": 54,
   "metadata": {},
   "outputs": [],
   "source": [
    "xValues = data.iloc[:, [1, 2, 3, 4, 5]]\n",
    "yValues = data.iloc[:, [6]]\n",
    "assert len(xValues) == len(yValues)"
   ]
  },
  {
   "cell_type": "code",
   "execution_count": 72,
   "metadata": {},
   "outputs": [
    {
     "name": "stdout",
     "output_type": "stream",
     "text": [
      "<class 'pandas.core.frame.DataFrame'>\n"
     ]
    }
   ],
   "source": [
    "training, validation, trainTruth, valTruth = train_test_split(xValues, yValues, random_state=12, train_size = 0.7)\n",
    "validation, testing, valTruth, testTruth = train_test_split(validation, valTruth, random_state=2, train_size = 0.5)\n",
    "\n",
    "assert len(training)==len(trainTruth)\n",
    "assert len(testing)==len(testTruth)\n",
    "assert len(validation) == len(valTruth)\n",
    "print(type(training))"
   ]
  },
  {
   "cell_type": "code",
   "execution_count": 73,
   "metadata": {},
   "outputs": [
    {
     "name": "stdout",
     "output_type": "stream",
     "text": [
      "<class 'torch.Tensor'>\n"
     ]
    }
   ],
   "source": [
    "trainTruth = torch.tensor(trainTruth.values)\n",
    "training = torch.tensor(training.values)\n",
    "\n",
    "testTruth = torch.tensor(testTruth.values)\n",
    "testing = torch.tensor(testing.values)\n",
    "\n",
    "training = training.float()\n",
    "testing = testing.float()\n",
    "\n",
    "trainTruth = trainTruth.float()\n",
    "testTruth = testTruth.float()\n",
    "\n",
    "valTruth = torch.tensor(valTruth.values)\n",
    "validation = torch.tensor(validation.values)\n",
    "\n",
    "validation = validation.float()\n",
    "valTruth = valTruth.float()\n",
    "print(type(training))"
   ]
  },
  {
   "cell_type": "code",
   "execution_count": 57,
   "metadata": {},
   "outputs": [],
   "source": [
    "average = mean(x.item() for x in trainTruth)\n",
    "\n",
    "binaryTestTruth = torch.tensor([float(x>average) for x in testTruth])\n",
    "\n",
    "binaryTrainTruth = torch.tensor([float(x>average) for x in trainTruth])\n",
    "\n",
    "binaryValTruth = torch.tensor([float(x>average) for x in valTruth])"
   ]
  },
  {
   "cell_type": "code",
   "execution_count": 66,
   "metadata": {},
   "outputs": [
    {
     "name": "stdout",
     "output_type": "stream",
     "text": [
      "torch.Size([3500, 5])\n"
     ]
    },
    {
     "name": "stderr",
     "output_type": "stream",
     "text": [
      "c:\\Users\\natha\\AppData\\Local\\Programs\\Python\\Python39\\lib\\site-packages\\torch\\nn\\modules\\loss.py:536: UserWarning: Using a target size (torch.Size([3500])) that is different to the input size (torch.Size([3500, 1])). This will likely lead to incorrect results due to broadcasting. Please ensure they have the same size.\n",
      "  return F.mse_loss(input, target, reduction=self.reduction)\n"
     ]
    },
    {
     "name": "stdout",
     "output_type": "stream",
     "text": [
      "total change in loss: 0.31839506328105927\n"
     ]
    },
    {
     "data": {
      "image/png": "[encoded data removed]",
      "text/plain": [
       "<Figure size 432x288 with 1 Axes>"
      ]
     },
     "metadata": {
      "needs_background": "light"
     },
     "output_type": "display_data"
    }
   ],
   "source": [
    "#testing = torch.randn(batchSize, seqLength, inputSize)\n",
    "\n",
    "inputSize=5 # variables input\n",
    "hiddenSizeOne=32 # nodes of hidden layer\n",
    "hiddenSizeTwo=32 # nodes of hidden layer\n",
    "outSize=1 # power consumptoion in zone 1\n",
    "batchSize= 144*7 # how many data points are in batch\n",
    "lr = 0.025\n",
    "seqLength=144 # num of time values per input\n",
    "epochSize = 10\n",
    "\n",
    "class extractTensor(nn.Module):\n",
    "    def forward(self, x):\n",
    "        tensor, hs = x\n",
    "        return tensor.reshape(-1, hiddenSizeOne) \n",
    "\n",
    "model = nn.Sequential(\n",
    "    nn.LSTM(inputSize, hiddenSizeOne),\n",
    "    extractTensor(),\n",
    "    nn.Sigmoid(),\n",
    "    nn.Linear(hiddenSizeOne, hiddenSizeTwo),\n",
    "    #nn.Sigmoid(),\n",
    "    nn.Linear(hiddenSizeTwo, outSize)\n",
    "    #nn.Sigmoid() \n",
    "    #nn.Linear(linearSize, outSize)\n",
    ")\n",
    "\n",
    "MSEloss = torch.nn.MSELoss()\n",
    "def lossFunc(data=training, comparison=trainTruth, model=model):\n",
    "    prediction = model(data)\n",
    "\n",
    "    output = MSEloss(prediction, comparison)\n",
    "    \n",
    "    return output, prediction\n",
    "\n",
    "optimizer = torch.optim.SGD(model.parameters(), lr=lr)\n",
    "\n",
    "# model training starts here\n",
    "lossList = []\n",
    "print(training.shape)\n",
    "for i in range(epochSize):\n",
    "    loss, output = lossFunc(comparison = binaryTrainTruth)\n",
    "    lossList.append(loss.item())\n",
    "\n",
    "    optimizer.zero_grad()\n",
    "    loss.backward()\n",
    "    optimizer.step()\n",
    "\n",
    "plt.plot(lossList)\n",
    "training_loss = loss.item();\n",
    "print(f'total change in loss: {lossList[0]-lossList[-1]}')"
   ]
  },
  {
   "cell_type": "code",
   "execution_count": 59,
   "metadata": {},
   "outputs": [
    {
     "name": "stdout",
     "output_type": "stream",
     "text": [
      "training loss:    0.24970413744449615\n",
      "testing loss:     0.24913786351680756\n",
      "testing-training: 0.0005662739276885986\n",
      "testing/training: 1.0022729340281527\n",
      "% error           0.002272934028152634\n"
     ]
    },
    {
     "name": "stderr",
     "output_type": "stream",
     "text": [
      "c:\\Users\\natha\\AppData\\Local\\Programs\\Python\\Python39\\lib\\site-packages\\torch\\nn\\modules\\loss.py:536: UserWarning: Using a target size (torch.Size([750])) that is different to the input size (torch.Size([750, 1])). This will likely lead to incorrect results due to broadcasting. Please ensure they have the same size.\n",
      "  return F.mse_loss(input, target, reduction=self.reduction)\n"
     ]
    }
   ],
   "source": [
    "with torch.no_grad():\n",
    "    testing_loss, prediction = lossFunc(validation, binaryValTruth);\n",
    "    testing_loss = testing_loss.item()\n",
    "   \n",
    "    print(f\"training loss:    {training_loss}\");\n",
    "    print(f\"testing loss:     {testing_loss}\");\n",
    "    print(f\"testing-training: {abs(testing_loss-training_loss)}\");\n",
    "    print(f\"testing/training: {training_loss/testing_loss}\");\n",
    "    print(f\"% error           {abs(testing_loss-training_loss)/testing_loss}\");"
   ]
  },
  {
   "cell_type": "code",
   "execution_count": 60,
   "metadata": {},
   "outputs": [
    {
     "name": "stdout",
     "output_type": "stream",
     "text": [
      "predicting same thing 0.26666666666666666%\n"
     ]
    }
   ],
   "source": [
    "common = mode([float(x) for x in output])\n",
    "\n",
    "count=0\n",
    "for x in output:\n",
    "    if x == common:\n",
    "        count+=1\n",
    "\n",
    "print(f'predicting same thing {count/len(prediction)*100}%')"
   ]
  },
  {
   "cell_type": "code",
   "execution_count": 61,
   "metadata": {},
   "outputs": [
    {
     "name": "stdout",
     "output_type": "stream",
     "text": [
      "AUROC score: 0.48916542665827273\n"
     ]
    }
   ],
   "source": [
    "print(f'AUROC score: {roc_auc_score(binaryValTruth, prediction)}')"
   ]
  },
  {
   "cell_type": "code",
   "execution_count": 62,
   "metadata": {},
   "outputs": [],
   "source": [
    "# rounding percentage chances to 1 or 0 floats\n",
    "binaryPred = []\n",
    "for pred in prediction:\n",
    "    if pred.item() >= 0.5:\n",
    "        binaryPred.append(1.0)\n",
    "    else:\n",
    "        binaryPred.append(0)"
   ]
  },
  {
   "cell_type": "code",
   "execution_count": 63,
   "metadata": {},
   "outputs": [
    {
     "name": "stdout",
     "output_type": "stream",
     "text": [
      "accuracy: 46.93333333333333\n"
     ]
    }
   ],
   "source": [
    "# accuracy for binary prediction\n",
    "\n",
    "correct=0\n",
    "for i in range(len(binaryPred)):\n",
    "    if binaryPred[i] == binaryValTruth[i]:\n",
    "        correct+=1\n",
    "print(f'accuracy: {(correct/ len(prediction))*100}')"
   ]
  },
  {
   "cell_type": "code",
   "execution_count": 64,
   "metadata": {},
   "outputs": [],
   "source": [
    "# cross validation is necessary for true model\n",
    "# iterate above k times\n",
    "# each iteration change training and testing data (stratified data split probably best imo)\n",
    "# get average auroc score over all iterations\n",
    "\n",
    "# from sklearn.model_selection import cross_validate\n",
    "# https://www.baeldung.com/cs/k-fold-cross-validation"
   ]
  }
 ],
 "metadata": {
  "kernelspec": {
   "display_name": "Python 3",
   "language": "python",
   "name": "python3"
  },
  "language_info": {
   "codemirror_mode": {
    "name": "ipython",
    "version": 3
   },
   "file_extension": ".py",
   "mimetype": "text/x-python",
   "name": "python",
   "nbconvert_exporter": "python",
   "pygments_lexer": "ipython3",
   "version": "3.9.7"
  },
  "orig_nbformat": 4,
  "vscode": {
   "interpreter": {
    "hash": "89627e806f793b932dfe80791ab48950fda4fb8e20d46d5d1c8fbf2fdce875b2"
   }
  }
 },
 "nbformat": 4,
 "nbformat_minor": 2
}
