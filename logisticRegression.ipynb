{
 "cells": [
  {
   "cell_type": "code",
   "execution_count": 68,
   "metadata": {},
   "outputs": [],
   "source": [
    "from sklearn.model_selection import train_test_split\n",
    "from sklearn.linear_model import RidgeClassifierCV\n",
    "import pandas as pd\n",
    "from statistics import mean\n",
    "from numpy import array"
   ]
  },
  {
   "cell_type": "code",
   "execution_count": 69,
   "metadata": {},
   "outputs": [],
   "source": [
    "# gets data, splits into x and y dataframe of len 5000\n",
    "data = pd.read_csv('Tetuan City power consumption.csv')\n",
    "data = data.iloc[:5000, :]\n",
    "\n",
    "xValues = data.iloc[:, [1, 2, 3, 4, 5]]\n",
    "yValues = data.iloc[:, [6]]\n",
    "assert len(xValues) == len(yValues)"
   ]
  },
  {
   "cell_type": "code",
   "execution_count": 70,
   "metadata": {},
   "outputs": [],
   "source": [
    "# splits data into train,. test, and validate\n",
    "training, validation, trainTruth, valTruth = train_test_split(xValues, yValues)\n",
    "validation, testing, valTruth, testTruth = train_test_split(validation, valTruth)\n",
    "\n",
    "assert len(training)==len(trainTruth)\n",
    "assert len(testing)==len(testTruth)\n",
    "assert len(validation) == len(valTruth)"
   ]
  },
  {
   "cell_type": "code",
   "execution_count": 71,
   "metadata": {},
   "outputs": [],
   "source": [
    "# converts continuous truth values to binary(power usage is below average: 0, or above average: 1)\n",
    "average = mean([x.item() for x in trainTruth.values])\n",
    "\n",
    "binaryTestTruth = [(x>average) for x in testTruth.values]\n",
    "binaryTrainTruth = [(x>average) for x in trainTruth.values]\n",
    "binaryValTruth = [(x>average) for x in valTruth.values]"
   ]
  },
  {
   "cell_type": "code",
   "execution_count": 72,
   "metadata": {},
   "outputs": [
    {
     "name": "stdout",
     "output_type": "stream",
     "text": [
      "0.7491995731056563\n"
     ]
    },
    {
     "name": "stderr",
     "output_type": "stream",
     "text": [
      "c:\\Users\\natha\\AppData\\Local\\Programs\\Python\\Python39\\lib\\site-packages\\sklearn\\linear_model\\_ridge.py:1178: DataConversionWarning: A column-vector y was passed when a 1d array was expected. Please change the shape of y to (n_samples, ), for example using ravel().\n",
      "  y = column_or_1d(y, warn=True)\n"
     ]
    }
   ],
   "source": [
    "clf = RidgeClassifierCV().fit(training, binaryTrainTruth)\n",
    "print(clf.score(validation, binaryValTruth))"
   ]
  },
  {
   "cell_type": "code",
   "execution_count": 73,
   "metadata": {},
   "outputs": [
    {
     "data": {
      "text/plain": [
       "0.731629392971246"
      ]
     },
     "execution_count": 73,
     "metadata": {},
     "output_type": "execute_result"
    }
   ],
   "source": [
    "clf.score(testing, binaryTestTruth)"
   ]
  }
 ],
 "metadata": {
  "kernelspec": {
   "display_name": "Python 3",
   "language": "python",
   "name": "python3"
  },
  "language_info": {
   "codemirror_mode": {
    "name": "ipython",
    "version": 3
   },
   "file_extension": ".py",
   "mimetype": "text/x-python",
   "name": "python",
   "nbconvert_exporter": "python",
   "pygments_lexer": "ipython3",
   "version": "3.9.7"
  },
  "orig_nbformat": 4
 },
 "nbformat": 4,
 "nbformat_minor": 2
}
